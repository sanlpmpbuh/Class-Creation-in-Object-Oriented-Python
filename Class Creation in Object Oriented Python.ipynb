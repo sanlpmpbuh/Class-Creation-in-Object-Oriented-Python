{
 "cells": [
  {
   "cell_type": "markdown",
   "metadata": {},
   "source": [
    "# Project Structure"
   ]
  },
  {
   "cell_type": "markdown",
   "metadata": {},
   "source": [
    "The hands on project on Python Data Structures is divided into following tasks:\n",
    "\n",
    "**Task 1:** Create the Class definition based on requirements.\n",
    "\n",
    "**Task 2:** Create the Constructor to allow us to create objects with data.\n",
    "\n",
    "**Task 3:** Add Getters and Setters to access and modify the attributes.\n",
    "\n",
    "**Task 4:** Add a String representation of the object for output.\n",
    "\n",
    "**Task 5:** Sort a list of objects."
   ]
  },
  {
   "cell_type": "markdown",
   "metadata": {},
   "source": [
    "### How the data looks ?"
   ]
  },
  {
   "cell_type": "code",
   "execution_count": 14,
   "metadata": {},
   "outputs": [
    {
     "data": {
      "text/html": [
       "<div>\n",
       "<style scoped>\n",
       "    .dataframe tbody tr th:only-of-type {\n",
       "        vertical-align: middle;\n",
       "    }\n",
       "\n",
       "    .dataframe tbody tr th {\n",
       "        vertical-align: top;\n",
       "    }\n",
       "\n",
       "    .dataframe thead th {\n",
       "        text-align: right;\n",
       "    }\n",
       "</style>\n",
       "<table border=\"1\" class=\"dataframe\">\n",
       "  <thead>\n",
       "    <tr style=\"text-align: right;\">\n",
       "      <th></th>\n",
       "      <th>make</th>\n",
       "      <th>model</th>\n",
       "      <th>color</th>\n",
       "      <th>year</th>\n",
       "      <th>price</th>\n",
       "    </tr>\n",
       "  </thead>\n",
       "  <tbody>\n",
       "    <tr>\n",
       "      <th>0</th>\n",
       "      <td>buick</td>\n",
       "      <td>lesabre</td>\n",
       "      <td>red</td>\n",
       "      <td>2013</td>\n",
       "      <td>10000</td>\n",
       "    </tr>\n",
       "    <tr>\n",
       "      <th>1</th>\n",
       "      <td>dodge</td>\n",
       "      <td>charger</td>\n",
       "      <td>black</td>\n",
       "      <td>2018</td>\n",
       "      <td>18000</td>\n",
       "    </tr>\n",
       "    <tr>\n",
       "      <th>2</th>\n",
       "      <td>chevy</td>\n",
       "      <td>malibu</td>\n",
       "      <td>white</td>\n",
       "      <td>2018</td>\n",
       "      <td>12000</td>\n",
       "    </tr>\n",
       "    <tr>\n",
       "      <th>3</th>\n",
       "      <td>toyota</td>\n",
       "      <td>camry</td>\n",
       "      <td>blue</td>\n",
       "      <td>2000</td>\n",
       "      <td>6000</td>\n",
       "    </tr>\n",
       "    <tr>\n",
       "      <th>4</th>\n",
       "      <td>nissan</td>\n",
       "      <td>ultima</td>\n",
       "      <td>silver</td>\n",
       "      <td>2012</td>\n",
       "      <td>8000</td>\n",
       "    </tr>\n",
       "    <tr>\n",
       "      <th>5</th>\n",
       "      <td>volvo</td>\n",
       "      <td>S60</td>\n",
       "      <td>Gray</td>\n",
       "      <td>2018</td>\n",
       "      <td>45000</td>\n",
       "    </tr>\n",
       "    <tr>\n",
       "      <th>6</th>\n",
       "      <td>chevy</td>\n",
       "      <td>malibu</td>\n",
       "      <td>blue</td>\n",
       "      <td>2007</td>\n",
       "      <td>6000</td>\n",
       "    </tr>\n",
       "    <tr>\n",
       "      <th>7</th>\n",
       "      <td>toyota</td>\n",
       "      <td>corolla</td>\n",
       "      <td>green</td>\n",
       "      <td>2010</td>\n",
       "      <td>8000</td>\n",
       "    </tr>\n",
       "    <tr>\n",
       "      <th>8</th>\n",
       "      <td>ford</td>\n",
       "      <td>explorer</td>\n",
       "      <td>brown</td>\n",
       "      <td>2005</td>\n",
       "      <td>3000</td>\n",
       "    </tr>\n",
       "  </tbody>\n",
       "</table>\n",
       "</div>"
      ],
      "text/plain": [
       "     make     model   color  year  price\n",
       "0   buick   lesabre     red  2013  10000\n",
       "1   dodge   charger   black  2018  18000\n",
       "2   chevy    malibu   white  2018  12000\n",
       "3  toyota     camry    blue  2000   6000\n",
       "4  nissan    ultima  silver  2012   8000\n",
       "5   volvo       S60    Gray  2018  45000\n",
       "6   chevy    malibu    blue  2007   6000\n",
       "7  toyota   corolla   green  2010   8000\n",
       "8    ford  explorer   brown  2005   3000"
      ]
     },
     "execution_count": 14,
     "metadata": {},
     "output_type": "execute_result"
    }
   ],
   "source": [
    "import pandas as pd\n",
    "\n",
    "df_cars = pd.read_csv(r'C:\\Users\\ARSALAN\\Desktop\\CR PROJECTS\\Class Creation in Object Oriented Python\\cars_final.csv')\n",
    "df_cars"
   ]
  },
  {
   "cell_type": "markdown",
   "metadata": {},
   "source": [
    "### Class"
   ]
  },
  {
   "cell_type": "markdown",
   "metadata": {},
   "source": [
    "- __INIT__ :  (constructor)\n",
    "\n",
    "It is run as soon as an object of a class is instantiated.\n",
    "\n",
    "The method is useful to do any initialization you want to do with your object.\n",
    "\n",
    "-------------------------------------------------------------------------------------------------------------------------------\n",
    "\n",
    "- __STR__ :\n",
    "\n",
    "it is basically the string representation of the object.\n",
    "\n",
    "-------------------------------------------------------------------------------------------------------------------------------\n",
    "\n",
    "- **@propery**\n",
    "\n",
    "Python programming provides us with a built-in @property decorator which makes usage of getter and setters much easier in Object-Oriented Programming.\n",
    "\n",
    "-------------------------------------------------------------------------------------------------------------------------------\n",
    "\n",
    "- **getters and setters**\n",
    "\n",
    "Basically, the main purpose of using getters and setters in object-oriented programs is to ensure data encapsulation. Private variables in python are not actually hidden fields like in other object oriented languages. Getters and Setters in python are often used when:\n",
    "\n",
    "--We use getters & setters to add validation logic around getting and setting a value.\n",
    "\n",
    "--To avoid direct access of a class field i.e. private variables cannot be accessed directly or modified by external user.\n",
    "\n",
    "-------------------------------------------------------------------------------------------------------------------------------\n",
    "\n",
    "- **SELF** :\n",
    "\n",
    "The self parameter is a reference to the current instance of the class, \n",
    "and is used to access variables that belongs to the class.\n",
    "\n",
    "It does not have to be named self , you can call it whatever you like, \n",
    "but it has to be the first parameter of any function in the class"
   ]
  },
  {
   "cell_type": "code",
   "execution_count": 15,
   "metadata": {},
   "outputs": [],
   "source": [
    "class Car:\n",
    "    def __init__(self , make = 'unknown' , model = 'unknown' , color = 'unkonown' , year = -1 , price = -1):\n",
    "        self.make = make\n",
    "        self.model = model     \n",
    "        self.color = color\n",
    "        self.year = year\n",
    "        self._price = price\n",
    "        \n",
    "    def __str__(self):\n",
    "        return 'Car -->\\n Make : ' + self.make + '\\n Model : ' + self.model + '\\n Color : ' + self.color + '\\n Year : ' +\\\n",
    "                    str(self.year) + '\\n price : ' + str(self.price)\n",
    "        \n",
    "    @property\n",
    "    def price(self):\n",
    "        return self._price\n",
    "    \n",
    "    @price.setter\n",
    "    def price(self , p):\n",
    "        if(p <= 0):\n",
    "            raise ValueError('Price is Zero or Less')\n",
    "        print('Setter was called')\n",
    "        "
   ]
  },
  {
   "cell_type": "code",
   "execution_count": 16,
   "metadata": {},
   "outputs": [
    {
     "name": "stdout",
     "output_type": "stream",
     "text": [
      "Model : unknown\n"
     ]
    }
   ],
   "source": [
    "car = Car()\n",
    "print(\"Model : \" + car.model)"
   ]
  },
  {
   "cell_type": "code",
   "execution_count": 17,
   "metadata": {},
   "outputs": [
    {
     "ename": "ValueError",
     "evalue": "Price is Zero or Less",
     "output_type": "error",
     "traceback": [
      "\u001b[1;31m---------------------------------------------------------------------------\u001b[0m",
      "\u001b[1;31mValueError\u001b[0m                                Traceback (most recent call last)",
      "\u001b[1;32m<ipython-input-17-8941aa1985a0>\u001b[0m in \u001b[0;36m<module>\u001b[1;34m\u001b[0m\n\u001b[1;32m----> 1\u001b[1;33m \u001b[0mcar\u001b[0m\u001b[1;33m.\u001b[0m\u001b[0mprice\u001b[0m \u001b[1;33m=\u001b[0m \u001b[1;33m-\u001b[0m\u001b[1;36m1\u001b[0m \u001b[1;31m#THIS ERROR IS THE OUTPUT\u001b[0m\u001b[1;33m\u001b[0m\u001b[1;33m\u001b[0m\u001b[0m\n\u001b[0m",
      "\u001b[1;32m<ipython-input-15-1e4210477f83>\u001b[0m in \u001b[0;36mprice\u001b[1;34m(self, p)\u001b[0m\n\u001b[0;32m     18\u001b[0m     \u001b[1;32mdef\u001b[0m \u001b[0mprice\u001b[0m\u001b[1;33m(\u001b[0m\u001b[0mself\u001b[0m \u001b[1;33m,\u001b[0m \u001b[0mp\u001b[0m\u001b[1;33m)\u001b[0m\u001b[1;33m:\u001b[0m\u001b[1;33m\u001b[0m\u001b[1;33m\u001b[0m\u001b[0m\n\u001b[0;32m     19\u001b[0m         \u001b[1;32mif\u001b[0m\u001b[1;33m(\u001b[0m\u001b[0mp\u001b[0m \u001b[1;33m<=\u001b[0m \u001b[1;36m0\u001b[0m\u001b[1;33m)\u001b[0m\u001b[1;33m:\u001b[0m\u001b[1;33m\u001b[0m\u001b[1;33m\u001b[0m\u001b[0m\n\u001b[1;32m---> 20\u001b[1;33m             \u001b[1;32mraise\u001b[0m \u001b[0mValueError\u001b[0m\u001b[1;33m(\u001b[0m\u001b[1;34m'Price is Zero or Less'\u001b[0m\u001b[1;33m)\u001b[0m\u001b[1;33m\u001b[0m\u001b[1;33m\u001b[0m\u001b[0m\n\u001b[0m\u001b[0;32m     21\u001b[0m         \u001b[0mprint\u001b[0m\u001b[1;33m(\u001b[0m\u001b[1;34m'Setter was called'\u001b[0m\u001b[1;33m)\u001b[0m\u001b[1;33m\u001b[0m\u001b[1;33m\u001b[0m\u001b[0m\n\u001b[0;32m     22\u001b[0m \u001b[1;33m\u001b[0m\u001b[0m\n",
      "\u001b[1;31mValueError\u001b[0m: Price is Zero or Less"
     ]
    }
   ],
   "source": [
    "car.price = -1 #THIS ERROR IS THE OUTPUT"
   ]
  },
  {
   "cell_type": "code",
   "execution_count": 18,
   "metadata": {},
   "outputs": [
    {
     "name": "stdout",
     "output_type": "stream",
     "text": [
      "Model: charger\n",
      "Attributes of our car :  Car -->\n",
      " Make : dodge\n",
      " Model : charger\n",
      " Color : black\n",
      " Year : 2018\n",
      " price : 18000\n"
     ]
    }
   ],
   "source": [
    "car= Car('dodge' , 'charger' , 'black' , 2018 , 18000)\n",
    "print('Model: '  + car.model)\n",
    "print('Attributes of our car : ', car)"
   ]
  },
  {
   "cell_type": "code",
   "execution_count": 19,
   "metadata": {},
   "outputs": [
    {
     "data": {
      "text/plain": [
       "['make,model,color,year,price\\n',\n",
       " 'buick,lesabre,red,2013,10000\\n',\n",
       " 'dodge,charger,black,2018,18000\\n',\n",
       " 'chevy,malibu,white,2018,12000\\n',\n",
       " 'toyota,camry,blue,2000,6000\\n',\n",
       " 'nissan,ultima,silver,2012,8000\\n',\n",
       " 'volvo,S60,Gray,2018,45000\\n',\n",
       " 'chevy,malibu,blue,2007,6000\\n',\n",
       " 'toyota,corolla,green,2010,8000\\n',\n",
       " 'ford,explorer,brown,2005,3000\\n']"
      ]
     },
     "execution_count": 19,
     "metadata": {},
     "output_type": "execute_result"
    }
   ],
   "source": [
    "file_opened = open('cars_final.csv' , 'r')\n",
    "cars_data = file_opened.readlines()\n",
    "cars_data"
   ]
  },
  {
   "cell_type": "code",
   "execution_count": 20,
   "metadata": {},
   "outputs": [
    {
     "data": {
      "text/plain": [
       "'make,model,color,year,price\\n'"
      ]
     },
     "execution_count": 20,
     "metadata": {},
     "output_type": "execute_result"
    }
   ],
   "source": [
    "cars_data.pop(0)"
   ]
  },
  {
   "cell_type": "code",
   "execution_count": 21,
   "metadata": {},
   "outputs": [
    {
     "data": {
      "text/plain": [
       "['buick,lesabre,red,2013,10000\\n',\n",
       " 'dodge,charger,black,2018,18000\\n',\n",
       " 'chevy,malibu,white,2018,12000\\n',\n",
       " 'toyota,camry,blue,2000,6000\\n',\n",
       " 'nissan,ultima,silver,2012,8000\\n',\n",
       " 'volvo,S60,Gray,2018,45000\\n',\n",
       " 'chevy,malibu,blue,2007,6000\\n',\n",
       " 'toyota,corolla,green,2010,8000\\n',\n",
       " 'ford,explorer,brown,2005,3000\\n']"
      ]
     },
     "execution_count": 21,
     "metadata": {},
     "output_type": "execute_result"
    }
   ],
   "source": [
    "cars_data"
   ]
  },
  {
   "cell_type": "code",
   "execution_count": 22,
   "metadata": {},
   "outputs": [],
   "source": [
    "cars_list = []"
   ]
  },
  {
   "cell_type": "code",
   "execution_count": 26,
   "metadata": {},
   "outputs": [
    {
     "name": "stdout",
     "output_type": "stream",
     "text": [
      "[<__main__.Car object at 0x000002987FB73AC8>, <__main__.Car object at 0x000002987FB73908>, <__main__.Car object at 0x000002987FB73448>, <__main__.Car object at 0x000002987FB73488>, <__main__.Car object at 0x000002987FB73848>, <__main__.Car object at 0x000002987FB6F388>, <__main__.Car object at 0x000002987FB6F288>, <__main__.Car object at 0x000002987FB73208>, <__main__.Car object at 0x000002987FB735C8>]\n"
     ]
    }
   ],
   "source": [
    "for rawstring in cars_data:\n",
    "    make,model,color,year,price = rawstring.split(',')\n",
    "    cars_list.append(Car(make,model,color,int(year),int(price)))\n",
    "    \n",
    "cars_list.sort(key=lambda car:car.price)\n",
    "\n",
    "print(cars_list)"
   ]
  },
  {
   "cell_type": "markdown",
   "metadata": {},
   "source": [
    "Basically it is used for defining anonymous functions that can/can't take argument(s) and returns value of data/expression."
   ]
  },
  {
   "cell_type": "code",
   "execution_count": 27,
   "metadata": {},
   "outputs": [
    {
     "name": "stdout",
     "output_type": "stream",
     "text": [
      "Car -->\n",
      " Make : ford\n",
      " Model : explorer\n",
      " Color : brown\n",
      " Year : 2005\n",
      " price : 3000 Car -->\n",
      " Make : toyota\n",
      " Model : camry\n",
      " Color : blue\n",
      " Year : 2000\n",
      " price : 6000 Car -->\n",
      " Make : chevy\n",
      " Model : malibu\n",
      " Color : blue\n",
      " Year : 2007\n",
      " price : 6000 Car -->\n",
      " Make : nissan\n",
      " Model : ultima\n",
      " Color : silver\n",
      " Year : 2012\n",
      " price : 8000 Car -->\n",
      " Make : toyota\n",
      " Model : corolla\n",
      " Color : green\n",
      " Year : 2010\n",
      " price : 8000 Car -->\n",
      " Make : buick\n",
      " Model : lesabre\n",
      " Color : red\n",
      " Year : 2013\n",
      " price : 10000 Car -->\n",
      " Make : chevy\n",
      " Model : malibu\n",
      " Color : white\n",
      " Year : 2018\n",
      " price : 12000 Car -->\n",
      " Make : dodge\n",
      " Model : charger\n",
      " Color : black\n",
      " Year : 2018\n",
      " price : 18000 Car -->\n",
      " Make : volvo\n",
      " Model : S60\n",
      " Color : Gray\n",
      " Year : 2018\n",
      " price : 45000\n"
     ]
    }
   ],
   "source": [
    "print(*cars_list)"
   ]
  },
  {
   "cell_type": "code",
   "execution_count": 28,
   "metadata": {},
   "outputs": [
    {
     "name": "stdout",
     "output_type": "stream",
     "text": [
      "Car -->\n",
      " Make : ford\n",
      " Model : explorer\n",
      " Color : brown\n",
      " Year : 2005\n",
      " price : 3000\n",
      "Car -->\n",
      " Make : toyota\n",
      " Model : camry\n",
      " Color : blue\n",
      " Year : 2000\n",
      " price : 6000\n",
      "Car -->\n",
      " Make : chevy\n",
      " Model : malibu\n",
      " Color : blue\n",
      " Year : 2007\n",
      " price : 6000\n",
      "Car -->\n",
      " Make : nissan\n",
      " Model : ultima\n",
      " Color : silver\n",
      " Year : 2012\n",
      " price : 8000\n",
      "Car -->\n",
      " Make : toyota\n",
      " Model : corolla\n",
      " Color : green\n",
      " Year : 2010\n",
      " price : 8000\n",
      "Car -->\n",
      " Make : buick\n",
      " Model : lesabre\n",
      " Color : red\n",
      " Year : 2013\n",
      " price : 10000\n",
      "Car -->\n",
      " Make : chevy\n",
      " Model : malibu\n",
      " Color : white\n",
      " Year : 2018\n",
      " price : 12000\n",
      "Car -->\n",
      " Make : dodge\n",
      " Model : charger\n",
      " Color : black\n",
      " Year : 2018\n",
      " price : 18000\n",
      "Car -->\n",
      " Make : volvo\n",
      " Model : S60\n",
      " Color : Gray\n",
      " Year : 2018\n",
      " price : 45000\n"
     ]
    }
   ],
   "source": [
    "print(*cars_list , sep='\\n')"
   ]
  },
  {
   "cell_type": "code",
   "execution_count": null,
   "metadata": {},
   "outputs": [],
   "source": []
  }
 ],
 "metadata": {
  "kernelspec": {
   "display_name": "Python 3",
   "language": "python",
   "name": "python3"
  },
  "language_info": {
   "codemirror_mode": {
    "name": "ipython",
    "version": 3
   },
   "file_extension": ".py",
   "mimetype": "text/x-python",
   "name": "python",
   "nbconvert_exporter": "python",
   "pygments_lexer": "ipython3",
   "version": "3.7.6"
  }
 },
 "nbformat": 4,
 "nbformat_minor": 4
}
